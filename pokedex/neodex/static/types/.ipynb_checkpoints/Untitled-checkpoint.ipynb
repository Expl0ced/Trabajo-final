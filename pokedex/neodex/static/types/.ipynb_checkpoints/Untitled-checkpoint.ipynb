{
 "cells": [
  {
   "cell_type": "code",
   "execution_count": 1,
   "metadata": {},
   "outputs": [],
   "source": [
    "import requests\n",
    "from bs4 import BeautifulSoup as bs\n",
    "import pandas as pd\n",
    "import numpy as np\n",
    "import urllib as ur"
   ]
  },
  {
   "cell_type": "code",
   "execution_count": 13,
   "metadata": {},
   "outputs": [],
   "source": [
    "tipos=         ['Tipo_agua',\n",
    "                'Tipo_fuego',\n",
    "                'Tipo_planta',\n",
    "                'Tipo_electrico',\n",
    "                'Tipo_tierra',\n",
    "                'Tipo_roca',\n",
    "                'Tipo_acero',\n",
    "                'Tipo_bicho',\n",
    "                'Tipo_hielo',\n",
    "                'Tipo_veneno',\n",
    "                'Tipo_volador', \n",
    "                'Tipo_psiquico',\n",
    "                'Tipo_fantasma',\n",
    "                'Tipo_siniestro',\n",
    "                'Tipo_lucha',\n",
    "                'Tipo_dragón',\n",
    "                'Tipo_hada',\n",
    "                'Tipo_normal']"
   ]
  },
  {
   "cell_type": "code",
   "execution_count": null,
   "metadata": {},
   "outputs": [],
   "source": [
    "elemental_type=['https://static.wikia.nocookie.net/espokemon/images/9/94/Tipo_agua.gif/',\n",
    "                'https://static.wikia.nocookie.net/espokemon/images/c/ce/Tipo_fuego.gif/',\n",
    "                'https://static.wikia.nocookie.net/espokemon/images/d/d6/Tipo_planta.gif/',\n",
    "                'https://static.wikia.nocookie.net/espokemon/images/1/1b/Tipo_eléctrico.gif/',\n",
    "                'https://static.wikia.nocookie.net/espokemon/images/1/1d/Tipo_tierra.gif/',\n",
    "                'https://static.wikia.nocookie.net/espokemon/images/e/e0/Tipo_roca.gif/',\n",
    "                'https://static.wikia.nocookie.net/espokemon/images/d/d9/Tipo_acero.gif/',\n",
    "                'https://static.wikia.nocookie.net/espokemon/images/f/fe/Tipo_bicho.gif/',\n",
    "                'https://static.wikia.nocookie.net/espokemon/images/4/40/Tipo_hielo.gif/',\n",
    "                'https://static.wikia.nocookie.net/espokemon/images/1/10/Tipo_veneno.gif/',\n",
    "                'https://static.wikia.nocookie.net/espokemon/images/e/e1/Tipo_volador.gif/', \n",
    "                'https://static.wikia.nocookie.net/espokemon/images/1/15/Tipo_psíquico.gif/',\n",
    "                'https://static.wikia.nocookie.net/espokemon/images/4/47/Tipo_fantasma.gif/',\n",
    "                'https://static.wikia.nocookie.net/espokemon/images/8/82/Tipo_siniestro.gif/',\n",
    "                'https://static.wikia.nocookie.net/espokemon/images/b/b7/Tipo_lucha.gif/',\n",
    "                'https://static.wikia.nocookie.net/espokemon/images/0/01/Tipo_dragón.gif/',\n",
    "                'https://static.wikia.nocookie.net/espokemon/images/b/bc/Tipo_hada.gif/',\n",
    "                'https://static.wikia.nocookie.net/espokemon/images/3/32/Tipo_normal.gif/'\n",
    "               ]"
   ]
  },
  {
   "cell_type": "code",
   "execution_count": null,
   "metadata": {},
   "outputs": [],
   "source": [
    "for url in elemental_type:\n",
    "    for tipo in tipos:\n",
    "        nombre_local_imagen = tipo+\".gif\" # El nombre con el que queremos guardarla\n",
    "        imagen = requests.get(url).content\n",
    "        with open(nombre_local_imagen, 'wb') as handler:\n",
    "            handler.write(imagen)"
   ]
  }
 ],
 "metadata": {
  "kernelspec": {
   "display_name": "Python 3",
   "language": "python",
   "name": "python3"
  },
  "language_info": {
   "codemirror_mode": {
    "name": "ipython",
    "version": 3
   },
   "file_extension": ".py",
   "mimetype": "text/x-python",
   "name": "python",
   "nbconvert_exporter": "python",
   "pygments_lexer": "ipython3",
   "version": "3.8.5"
  }
 },
 "nbformat": 4,
 "nbformat_minor": 4
}
