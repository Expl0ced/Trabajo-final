{
 "cells": [
  {
   "cell_type": "code",
   "execution_count": 14,
   "metadata": {},
   "outputs": [],
   "source": [
    "import requests\n",
    "from bs4 import BeautifulSoup as bs\n",
    "import urllib as ur"
   ]
  },
  {
   "cell_type": "code",
   "execution_count": 100,
   "metadata": {},
   "outputs": [],
   "source": [
    "tipos=         ['Agua',\n",
    "                'Fuego',\n",
    "                'Planta',\n",
    "                'Electrico',\n",
    "                'Tierra',\n",
    "                'Roca',\n",
    "                'Acero',\n",
    "                'Bicho',\n",
    "                'Hielo',\n",
    "                'Veneno',\n",
    "                'Volador', \n",
    "                'Psiquico',\n",
    "                'Fantasma',\n",
    "                'Siniestro',\n",
    "                'Lucha',\n",
    "                'Dragón',\n",
    "                'Hada',\n",
    "                'Normal']"
   ]
  },
  {
   "cell_type": "code",
   "execution_count": 101,
   "metadata": {},
   "outputs": [],
   "source": [
    "elemental_type=['https://static.wikia.nocookie.net/espokemon/images/9/94/Tipo_agua.gif/',\n",
    "                'https://static.wikia.nocookie.net/espokemon/images/c/ce/Tipo_fuego.gif/',\n",
    "                'https://static.wikia.nocookie.net/espokemon/images/d/d6/Tipo_planta.gif/',\n",
    "                'https://static.wikia.nocookie.net/espokemon/images/1/1b/Tipo_eléctrico.gif/',\n",
    "                'https://static.wikia.nocookie.net/espokemon/images/1/1d/Tipo_tierra.gif/',\n",
    "                'https://static.wikia.nocookie.net/espokemon/images/e/e0/Tipo_roca.gif/',\n",
    "                'https://static.wikia.nocookie.net/espokemon/images/d/d9/Tipo_acero.gif/',\n",
    "                'https://static.wikia.nocookie.net/espokemon/images/f/fe/Tipo_bicho.gif/',\n",
    "                'https://static.wikia.nocookie.net/espokemon/images/4/40/Tipo_hielo.gif/',\n",
    "                'https://static.wikia.nocookie.net/espokemon/images/1/10/Tipo_veneno.gif/',\n",
    "                'https://static.wikia.nocookie.net/espokemon/images/e/e1/Tipo_volador.gif/', \n",
    "                'https://static.wikia.nocookie.net/espokemon/images/1/15/Tipo_psíquico.gif/',\n",
    "                'https://static.wikia.nocookie.net/espokemon/images/4/47/Tipo_fantasma.gif/',\n",
    "                'https://static.wikia.nocookie.net/espokemon/images/8/82/Tipo_siniestro.gif/',\n",
    "                'https://static.wikia.nocookie.net/espokemon/images/b/b7/Tipo_lucha.gif/',\n",
    "                'https://static.wikia.nocookie.net/espokemon/images/0/01/Tipo_dragón.gif/',\n",
    "                'https://static.wikia.nocookie.net/espokemon/images/b/bc/Tipo_hada.gif/',\n",
    "                'https://static.wikia.nocookie.net/espokemon/images/3/32/Tipo_normal.gif/'\n",
    "               ]"
   ]
  },
  {
   "cell_type": "code",
   "execution_count": 107,
   "metadata": {
    "scrolled": true
   },
   "outputs": [
    {
     "name": "stdout",
     "output_type": "stream",
     "text": [
      "Agua : 0\n",
      "https://static.wikia.nocookie.net/espokemon/images/9/94/Tipo_agua.gif/\n",
      "Fuego : 1\n",
      "https://static.wikia.nocookie.net/espokemon/images/c/ce/Tipo_fuego.gif/\n",
      "Planta : 2\n",
      "https://static.wikia.nocookie.net/espokemon/images/d/d6/Tipo_planta.gif/\n",
      "Electrico : 3\n",
      "https://static.wikia.nocookie.net/espokemon/images/1/1b/Tipo_eléctrico.gif/\n",
      "Tierra : 4\n",
      "https://static.wikia.nocookie.net/espokemon/images/1/1d/Tipo_tierra.gif/\n",
      "Roca : 5\n",
      "https://static.wikia.nocookie.net/espokemon/images/e/e0/Tipo_roca.gif/\n",
      "Acero : 6\n",
      "https://static.wikia.nocookie.net/espokemon/images/d/d9/Tipo_acero.gif/\n",
      "Bicho : 7\n",
      "https://static.wikia.nocookie.net/espokemon/images/f/fe/Tipo_bicho.gif/\n",
      "Hielo : 8\n",
      "https://static.wikia.nocookie.net/espokemon/images/4/40/Tipo_hielo.gif/\n",
      "Veneno : 9\n",
      "https://static.wikia.nocookie.net/espokemon/images/1/10/Tipo_veneno.gif/\n",
      "Volador : 10\n",
      "https://static.wikia.nocookie.net/espokemon/images/e/e1/Tipo_volador.gif/\n",
      "Psiquico : 11\n",
      "https://static.wikia.nocookie.net/espokemon/images/1/15/Tipo_psíquico.gif/\n",
      "Fantasma : 12\n",
      "https://static.wikia.nocookie.net/espokemon/images/4/47/Tipo_fantasma.gif/\n",
      "Siniestro : 13\n",
      "https://static.wikia.nocookie.net/espokemon/images/8/82/Tipo_siniestro.gif/\n",
      "Lucha : 14\n",
      "https://static.wikia.nocookie.net/espokemon/images/b/b7/Tipo_lucha.gif/\n",
      "Dragón : 15\n",
      "https://static.wikia.nocookie.net/espokemon/images/0/01/Tipo_dragón.gif/\n",
      "Hada : 16\n",
      "https://static.wikia.nocookie.net/espokemon/images/b/bc/Tipo_hada.gif/\n",
      "Normal : 17\n",
      "https://static.wikia.nocookie.net/espokemon/images/3/32/Tipo_normal.gif/\n"
     ]
    }
   ],
   "source": [
    "contador=0\n",
    "for tipo in tipos:\n",
    "    if contador<19:\n",
    "        print(tipo + \" : \"+str(contador))\n",
    "        print(elemental_type[contador])  \n",
    "        nombre_local_imagen = tipo+\".gif\" # El nombre con el que queremos guardarla\n",
    "        imagen = requests.get(elemental_type[contador]).content\n",
    "        with open(nombre_local_imagen, 'wb') as handler:\n",
    "            handler.write(imagen)\n",
    "        contador=contador+1"
   ]
  }
 ],
 "metadata": {
  "kernelspec": {
   "display_name": "Python 3",
   "language": "python",
   "name": "python3"
  },
  "language_info": {
   "codemirror_mode": {
    "name": "ipython",
    "version": 3
   },
   "file_extension": ".py",
   "mimetype": "text/x-python",
   "name": "python",
   "nbconvert_exporter": "python",
   "pygments_lexer": "ipython3",
   "version": "3.8.5"
  }
 },
 "nbformat": 4,
 "nbformat_minor": 4
}
