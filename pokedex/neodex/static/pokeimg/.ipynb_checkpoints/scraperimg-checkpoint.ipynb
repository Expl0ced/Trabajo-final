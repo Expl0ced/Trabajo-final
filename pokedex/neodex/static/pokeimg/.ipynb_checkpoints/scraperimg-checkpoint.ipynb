{
 "cells": [
  {
   "cell_type": "code",
   "execution_count": 1,
   "metadata": {},
   "outputs": [],
   "source": [
    "import requests\n",
    "from bs4 import BeautifulSoup as bs\n",
    "import urllib as ur"
   ]
  },
  {
   "cell_type": "code",
   "execution_count": 5,
   "metadata": {},
   "outputs": [],
   "source": [
    "for numero in range(1,10):\n",
    "    url='https://assets.pokemon.com/assets/cms2/img/pokedex/full/00'+str(numero)+'.png'\n",
    "    nombre_local_imagen = str(numero)+\".jpg\" # El nombre con el que queremos guardarla\n",
    "    imagen = requests.get(url).content\n",
    "    with open(nombre_local_imagen, 'wb') as handler:\n",
    "        handler.write(imagen)"
   ]
  },
  {
   "cell_type": "code",
   "execution_count": 6,
   "metadata": {
    "scrolled": true
   },
   "outputs": [],
   "source": [
    "for numero in range(10,100):\n",
    "    url='https://assets.pokemon.com/assets/cms2/img/pokedex/full/0'+str(numero)+'.png'    \n",
    "    nombre_local_imagen = str(numero)+\".jpg\" # El nombre con el que queremos guardarla\n",
    "    imagen = requests.get(url).content\n",
    "    with open(nombre_local_imagen, 'wb') as handler:\n",
    "        handler.write(imagen)"
   ]
  },
  {
   "cell_type": "code",
   "execution_count": 4,
   "metadata": {},
   "outputs": [],
   "source": [
    "for numero in range(100,802):\n",
    "    url='https://assets.pokemon.com/assets/cms2/img/pokedex/full/'+str(numero)+'.png'\n",
    "    nombre_local_imagen = str(numero)+\".jpg\" # El nombre con el que queremos guardarla\n",
    "    imagen = requests.get(url).content\n",
    "    with open(nombre_local_imagen, 'wb') as handler:\n",
    "        handler.write(imagen)"
   ]
  }
 ],
 "metadata": {
  "kernelspec": {
   "display_name": "Python 3",
   "language": "python",
   "name": "python3"
  },
  "language_info": {
   "codemirror_mode": {
    "name": "ipython",
    "version": 3
   },
   "file_extension": ".py",
   "mimetype": "text/x-python",
   "name": "python",
   "nbconvert_exporter": "python",
   "pygments_lexer": "ipython3",
   "version": "3.8.5"
  }
 },
 "nbformat": 4,
 "nbformat_minor": 4
}
